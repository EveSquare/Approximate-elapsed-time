{
 "cells": [
  {
   "cell_type": "code",
   "execution_count": 2,
   "metadata": {},
   "outputs": [
    {
     "name": "stdout",
     "output_type": "stream",
     "text": [
      "UTC+09:00\n"
     ]
    },
    {
     "data": {
      "text/plain": [
       "datetime.datetime(2021, 10, 10, 13, 25, 35, 308414)"
      ]
     },
     "execution_count": 2,
     "metadata": {},
     "output_type": "execute_result"
    }
   ],
   "source": [
    "from datetime import datetime as dt,\\\n",
    "  timezone as tz,\\\n",
    "  timedelta as td\n",
    "\n",
    "import math\n",
    "\n",
    "second = dt(2021, 10, 9, 22, 27, 29, 960295, tzinfo=tz.utc)\n",
    "minutes_ago = dt(2019, 10, 10, 4, 52, 11, 485338, tzinfo=tz.utc)\n",
    "\n",
    "# dt.now(tz(td(hours=9)))\n",
    "\n",
    "\n",
    "ja: dict = {\n",
    "  'second': '秒',\n",
    "  'minute': '分',\n",
    "  'hour': '時間',\n",
    "  'month': 'か月',\n",
    "  'day': '日',\n",
    "  'week': '週間',\n",
    "  'year': '年',\n",
    "  'ago': '前',\n",
    "  'timezone': tz(td(hours=9)),\n",
    "}\n",
    "\n",
    "lang = {\n",
    "  'ja': {\n",
    "    'second':'a',\n",
    "  },\n",
    "  'en': {},\n",
    "}\n",
    "\n",
    "ja.get('second')\n",
    "print(dt.now(tz(td(hours=9))).tzinfo)\n",
    "dt.now()"
   ]
  },
  {
   "cell_type": "code",
   "execution_count": 39,
   "metadata": {},
   "outputs": [],
   "source": [
    "def timeSince(date):\n",
    "  seconds = (dt.now(tz(td(hours=0))) - date).total_seconds()\n",
    "  interval = seconds / 31536000\n",
    "  if (interval > 1):\n",
    "    return str(math.floor(interval)) + \" years\"\n",
    "  interval = seconds / 2592000\n",
    "  if (interval > 1):\n",
    "    return str(math.floor(interval)) + \" months\"\n",
    "  interval = seconds / 86400\n",
    "  if (interval > 1):\n",
    "    return str(math.floor(interval)) + \" days\"\n",
    "  interval = seconds / 3600\n",
    "  if (interval > 1):\n",
    "    return str(math.floor(interval)) + \" hours\"\n",
    "  interval = seconds / 60\n",
    "  if (interval > 1):\n",
    "    return str(math.floor(interval)) + \" minutes\"\n",
    "  return str(math.floor(seconds)) + \" seconds\""
   ]
  },
  {
   "cell_type": "code",
   "execution_count": 41,
   "metadata": {},
   "outputs": [
    {
     "name": "stdout",
     "output_type": "stream",
     "text": [
      "63152144.273153\n"
     ]
    },
    {
     "data": {
      "text/plain": [
       "'2 years'"
      ]
     },
     "execution_count": 41,
     "metadata": {},
     "output_type": "execute_result"
    }
   ],
   "source": [
    "years_ago = dt(2019, 10, 10, 4, 52, 11, 485338, tzinfo=tz.utc)\n",
    "\n",
    "timeSince(years_ago)"
   ]
  }
 ],
 "metadata": {
  "interpreter": {
   "hash": "9d406499b299ebaa6bda10f2ebb37a6e5000f2fc1329187012d98831201397fe"
  },
  "kernelspec": {
   "display_name": "Python 3.9.7 64-bit ('3.9.7': pyenv)",
   "name": "python3"
  },
  "language_info": {
   "codemirror_mode": {
    "name": "ipython",
    "version": 3
   },
   "file_extension": ".py",
   "mimetype": "text/x-python",
   "name": "python",
   "nbconvert_exporter": "python",
   "pygments_lexer": "ipython3",
   "version": "3.9.7"
  },
  "orig_nbformat": 4
 },
 "nbformat": 4,
 "nbformat_minor": 2
}
